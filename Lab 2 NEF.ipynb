{
 "cells": [
  {
   "cell_type": "markdown",
   "metadata": {},
   "source": [
    "MEMO:\n",
    "    \n",
    "    1)  Evaluar sobre el conjunto de entrenamiento da error \"ValueError: Classification metrics can't handle a mix of continuous-multioutput and binary targets\"(Las métricas de clasificación no pueden manejar una combinación de objetivos continuos de salida múltiple y binarios)\n",
    "    \n",
    "    2) Fijar la semilla aleatoria para repetir el experimento? random_state=0? puede ser otro N°?\n",
    "    \n",
    "    3) Matrices e confución para conjunto de entrenamiento error:Classification metrics can't handle a mix of continuous-multioutput and binary targets(Las métricas de clasificación no pueden manejar una combinación de objetivos continuos de salida múltiple y binarios)\n",
    "    \n",
    "    4)'min_samples_leaf':['int','float'] #se rompe \"'<' not supported between instances of 'float' and 'str'\"(ver punto práctico  3.2)\n",
    "    \n",
    "    5)Para la mejor configuración encontrada, evaluar sobre el conjunto de entrenamiento y sobre el conjunto de evaluación, reportando. CONSULTA: Hay que volver a entrenar y testear el mejor modelo con 0,2 de test???(todos los datos). En ejercicio 2.2 y 3.2.\n",
    "    \n",
    "    6) Ejericicio 2.2 se rompe alfa ['int','float'] #se rompe \"'<' not supported between instances of 'float' and 'str"
   ]
  },
  {
   "cell_type": "markdown",
   "metadata": {},
   "source": [
    "# Laboratorio 2: Armado de un esquema de aprendizaje automático\n",
    "\n",
    "En el laboratorio final se espera que puedan poner en práctica los conocimientos adquiridos en el curso, trabajando con un conjunto de datos de clasificación.\n",
    "\n",
    "El objetivo es que se introduzcan en el desarrollo de un esquema para hacer tareas de aprendizaje automático: selección de un modelo, ajuste de hiperparámetros y evaluación.\n",
    "\n",
    "El conjunto de datos a utilizar está en `./data/loan_data.csv`. Si abren el archivo verán que al principio (las líneas que empiezan con `#`) describen el conjunto de datos y sus atributos (incluyendo el atributo de etiqueta o clase).\n",
    "\n",
    "Se espera que hagan uso de las herramientas vistas en el curso. Se espera que hagan uso especialmente de las herramientas brindadas por `scikit-learn`."
   ]
  },
  {
   "cell_type": "code",
   "execution_count": 1,
   "metadata": {},
   "outputs": [],
   "source": [
    "import numpy as np\n",
    "import pandas as pd\n",
    "\n",
    "# TODO: Agregar las librerías que hagan falta\n",
    "from sklearn.model_selection import train_test_split\n",
    "\n",
    "#Agregados\n",
    "from sklearn.linear_model import SGDClassifier\n",
    "#from sklearn.preprocessing import StandardScaler\n",
    "#from sklearn.pipeline import make_pipeline\n",
    "from sklearn.metrics import confusion_matrix\n",
    "from sklearn.metrics import classification_report\n",
    "from utils import plot_confusion_matrix\n",
    "from sklearn.tree import DecisionTreeClassifier\n",
    "from sklearn.model_selection import GridSearchCV\n",
    "from sklearn.model_selection import ParameterGrid\n",
    "from sklearn.tree import plot_tree\n",
    "from sklearn.model_selection import RandomizedSearchCV"
   ]
  },
  {
   "cell_type": "markdown",
   "metadata": {},
   "source": [
    "## Carga de datos y división en entrenamiento y evaluación\n",
    "\n",
    "La celda siguiente se encarga de la carga de datos (haciendo uso de pandas). Estos serán los que se trabajarán en el resto del laboratorio."
   ]
  },
  {
   "cell_type": "code",
   "execution_count": 2,
   "metadata": {},
   "outputs": [],
   "source": [
    "dataset = pd.read_csv(\"./data/loan_data.csv\", comment=\"#\")\n",
    "\n",
    "# División entre instancias y etiquetas\n",
    "X, y = dataset.iloc[:, 1:], dataset.TARGET\n",
    "\n",
    "# división entre entrenamiento y evaluación\n",
    "X_train, X_test, y_train, y_test = train_test_split(X, y, test_size=0.2, random_state=0)"
   ]
  },
  {
   "cell_type": "markdown",
   "metadata": {},
   "source": [
    "\n",
    "Documentación:\n",
    "\n",
    "- https://scikit-learn.org/stable/modules/generated/sklearn.model_selection.train_test_split.html"
   ]
  },
  {
   "cell_type": "markdown",
   "metadata": {},
   "source": [
    "## Ejercicio 1: Descripción de los Datos y la Tarea\n",
    "\n",
    "Responder las siguientes preguntas:\n",
    "\n",
    "1. ¿De qué se trata el conjunto de datos?\n",
    "2. ¿Cuál es la variable objetivo que hay que predecir? ¿Qué significado tiene?\n",
    "3. ¿Qué información (atributos) hay disponible para hacer la predicción?\n",
    "4. ¿Qué atributos imagina ud. que son los más determinantes para la predicción?\n",
    "\n",
    "**No hace falta escribir código para responder estas preguntas.**"
   ]
  },
  {
   "cell_type": "code",
   "execution_count": 3,
   "metadata": {},
   "outputs": [],
   "source": [
    "# Loan dataset based on the Kaggle Home Equity dataset\n",
    "# Available at: https://www.kaggle.com/ajay1735/hmeq-data\n",
    "#\n",
    "# Context\n",
    "# =======\n",
    "# The consumer credit department of a bank wants to automate the decisionmaking\n",
    "# process for approval of home equity lines of credit. To do this, they will\n",
    "# follow the recommendations of the Equal Credit Opportunity Act to create an\n",
    "# empirically derived and statistically sound credit scoring model. The model\n",
    "# will be based on data collected from recent applicants granted credit through\n",
    "# the current process of loan underwriting. The model will be built from\n",
    "# predictive modeling tools, but the created model must be sufficiently\n",
    "# interpretable to provide a reason for any adverse actions (rejections).\n",
    "#\n",
    "# Content\n",
    "# =======\n",
    "# The Home Equity dataset (HMEQ) contains baseline and loan performance\n",
    "# information for 5,960 recent home equity loans. The target (BAD) is a binary\n",
    "# variable indicating whether an applicant eventually defaulted or was\n",
    "# seriously delinquent. This adverse outcome occurred in 1,189 cases (20%). For\n",
    "# each applicant, 12 input variables were recorded. \n",
    "#\n",
    "# Attributes\n",
    "# ==========\n",
    "# Name    Description\n",
    "# TARGET  Label: 1 = client defaulted on loan - 0 = loan repaid\n",
    "# LOAN    Amount of the loan request\n",
    "# MORTDUE Amount due on existing mortgage\n",
    "# VALUE   Value of current property\n",
    "# YOJ     Years at present job\n",
    "# DEROG   Number of major derogatory reports\n",
    "# DELINQ  Number of delinquent credit lines\n",
    "# CLAGE   Age of oldest trade line in months\n",
    "# NINQ    Number of recent credit lines\n",
    "# CLNO    Number of credit lines\n",
    "# DEBTINC Debt-to-income ratio\n",
    "\n",
    "# Conjunto de datos de préstamos basado en el conjunto de datos de Kaggle Home Equity\n",
    "# Disponible en: https://www.kaggle.com/ajay1735/hmeq-data\n",
    "#\n",
    "# Contexto\n",
    "# =======\n",
    "# El departamento de crédito al consumo de un banco quiere automatizar la toma de decisiones\n",
    "# proceso para la aprobación de líneas de crédito con garantía hipotecaria. Para ello, harán\n",
    "# seguir las recomendaciones de la Ley de Igualdad de Oportunidades de Crédito para crear un\n",
    "# modelo de calificación crediticia empíricamente derivado y estadísticamente sólido. El modelo\n",
    "# se basará en datos recopilados de solicitantes recientes a los que se les otorgó crédito a través de\n",
    "# el proceso actual de suscripción de préstamos. El modelo se construirá a partir de\n",
    "# herramientas de modelado predictivo, pero el modelo creado debe ser lo suficientemente\n",
    "# interpretable para proporcionar una razón para cualquier acción adversa (rechazos).\n",
    "#\n",
    "# Contenido\n",
    "# =======\n",
    "# El conjunto de datos sobre el valor acumulado de la vivienda (HMEQ, por sus siglas en inglés) contiene referencia\n",
    "#y rendimiento del préstamo\n",
    "# información de 5,960 préstamos recientes con garantía hipotecaria. El objetivo (MALO) es un binario\n",
    "# variable que indica si un solicitante finalmente incumplió o fue\n",
    "# gravemente delincuente. Este resultado adverso ocurrió en 1.189 casos (20%). Para\n",
    "# cada solicitante, se registraron 12 variables de entrada.\n",
    "#\n",
    "# Atributos\n",
    "# ==========\n",
    "# Nombre Descripción\n",
    "# Etiqueta OBJETIVO: 1 = cliente incumplió con el préstamo - 0 = préstamo reembolsado\n",
    "# PRÉSTAMO Importe de la solicitud de préstamo\n",
    "# MORTDUE Monto adeudado sobre la hipoteca existente\n",
    "# VALOR Valor de la propiedad actual\n",
    "# YOJ Años en el trabajo actual\n",
    "# DEROG Número de informes despectivos importantes\n",
    "# DELINQ Número de líneas de crédito morosas\n",
    "# CLAGE Antigüedad de la línea comercial más antigua en meses\n",
    "# NINQ Número de líneas de crédito recientes\n",
    "# CLNO Número de líneas de crédito\n",
    "# DEBTINC Relación deuda-ingresos\n"
   ]
  },
  {
   "cell_type": "markdown",
   "metadata": {},
   "source": [
    "\n",
    "¿De qué se trata el conjunto de datos?\n",
    "\n",
    "¿Cuál es la variable objetivo que hay que predecir? ¿Qué significado tiene?\n",
    "\n",
    "¿Qué información (atributos) hay disponible para hacer la predicción?\n",
    "\n",
    "¿Qué atributos imagina ud. que son los más determinantes para la predicción?"
   ]
  },
  {
   "cell_type": "markdown",
   "metadata": {},
   "source": [
    "## Ejercicio 2: Predicción con Modelos Lineales\n",
    "\n",
    "En este ejercicio se entrenarán modelos lineales de clasificación para predecir la variable objetivo.\n",
    "\n",
    "Para ello, deberán utilizar la clase SGDClassifier de scikit-learn.\n",
    "\n",
    "Documentación:\n",
    "- https://scikit-learn.org/stable/modules/sgd.html\n",
    "- https://scikit-learn.org/stable/modules/generated/sklearn.linear_model.SGDClassifier.html\n"
   ]
  },
  {
   "cell_type": "markdown",
   "metadata": {},
   "source": [
    "### Ejercicio 2.1: SGDClassifier con hiperparámetros por defecto\n",
    "\n",
    "Entrenar y evaluar el clasificador SGDClassifier usando los valores por omisión de scikit-learn para todos los parámetros. Únicamente **fijar la semilla aleatoria** para hacer repetible el experimento.\n",
    "\n",
    "Evaluar sobre el conjunto de **entrenamiento** y sobre el conjunto de **evaluación**, reportando:\n",
    "- Accuracy\n",
    "- Precision\n",
    "- Recall\n",
    "- F1\n",
    "- matriz de confusión"
   ]
  },
  {
   "cell_type": "code",
   "execution_count": 4,
   "metadata": {},
   "outputs": [],
   "source": [
    "SGDClassifier??"
   ]
  },
  {
   "cell_type": "code",
   "execution_count": 5,
   "metadata": {},
   "outputs": [],
   "source": [
    "model = SGDClassifier(random_state=0) #fijar la semilla aleatoria(?????)"
   ]
  },
  {
   "cell_type": "code",
   "execution_count": 6,
   "metadata": {},
   "outputs": [
    {
     "data": {
      "text/plain": [
       "SGDClassifier(random_state=0)"
      ]
     },
     "execution_count": 6,
     "metadata": {},
     "output_type": "execute_result"
    }
   ],
   "source": [
    "model.fit(X_train, y_train)"
   ]
  },
  {
   "cell_type": "code",
   "execution_count": 7,
   "metadata": {},
   "outputs": [],
   "source": [
    "y_train_pred = model.predict(X_train)"
   ]
  },
  {
   "cell_type": "code",
   "execution_count": 8,
   "metadata": {},
   "outputs": [],
   "source": [
    "y_test_pred = model.predict(X_test) "
   ]
  },
  {
   "cell_type": "code",
   "execution_count": 9,
   "metadata": {},
   "outputs": [],
   "source": [
    "#print(classification_report(X_train, y_train_pred)) #(?)"
   ]
  },
  {
   "cell_type": "code",
   "execution_count": 10,
   "metadata": {},
   "outputs": [
    {
     "name": "stdout",
     "output_type": "stream",
     "text": [
      "              precision    recall  f1-score   support\n",
      "\n",
      "           0       0.84      1.00      0.92       313\n",
      "           1       0.00      0.00      0.00        58\n",
      "\n",
      "    accuracy                           0.84       371\n",
      "   macro avg       0.42      0.50      0.46       371\n",
      "weighted avg       0.71      0.84      0.77       371\n",
      "\n"
     ]
    },
    {
     "name": "stderr",
     "output_type": "stream",
     "text": [
      "C:\\Anaconda3\\lib\\site-packages\\sklearn\\metrics\\_classification.py:1308: UndefinedMetricWarning: Precision and F-score are ill-defined and being set to 0.0 in labels with no predicted samples. Use `zero_division` parameter to control this behavior.\n",
      "  _warn_prf(average, modifier, msg_start, len(result))\n",
      "C:\\Anaconda3\\lib\\site-packages\\sklearn\\metrics\\_classification.py:1308: UndefinedMetricWarning: Precision and F-score are ill-defined and being set to 0.0 in labels with no predicted samples. Use `zero_division` parameter to control this behavior.\n",
      "  _warn_prf(average, modifier, msg_start, len(result))\n",
      "C:\\Anaconda3\\lib\\site-packages\\sklearn\\metrics\\_classification.py:1308: UndefinedMetricWarning: Precision and F-score are ill-defined and being set to 0.0 in labels with no predicted samples. Use `zero_division` parameter to control this behavior.\n",
      "  _warn_prf(average, modifier, msg_start, len(result))\n"
     ]
    }
   ],
   "source": [
    "print(classification_report(y_test, y_test_pred))"
   ]
  },
  {
   "cell_type": "markdown",
   "metadata": {},
   "source": [
    "#### Matrices de Confusión"
   ]
  },
  {
   "cell_type": "code",
   "execution_count": null,
   "metadata": {},
   "outputs": [],
   "source": []
  },
  {
   "cell_type": "code",
   "execution_count": 11,
   "metadata": {},
   "outputs": [],
   "source": [
    "#cm = confusion_matrix(X_train, y_train_pred) #???"
   ]
  },
  {
   "cell_type": "code",
   "execution_count": 12,
   "metadata": {},
   "outputs": [],
   "source": [
    "#plot_confusion_matrix(cm, ['0','1'])"
   ]
  },
  {
   "cell_type": "code",
   "execution_count": 13,
   "metadata": {},
   "outputs": [],
   "source": [
    "cm = confusion_matrix(y_test, y_test_pred)"
   ]
  },
  {
   "cell_type": "code",
   "execution_count": 14,
   "metadata": {},
   "outputs": [
    {
     "data": {
      "image/png": "[encoded data removed]",
      "text/plain": [
       "<Figure size 432x288 with 2 Axes>"
      ]
     },
     "metadata": {
      "needs_background": "light"
     },
     "output_type": "display_data"
    }
   ],
   "source": [
    "plot_confusion_matrix(cm, ['0','1'])"
   ]
  },
  {
   "cell_type": "markdown",
   "metadata": {},
   "source": [
    "### Ejercicio 2.2: Ajuste de Hiperparámetros\n",
    "\n",
    "Seleccionar valores para los hiperparámetros principales del SGDClassifier. Como mínimo, probar diferentes funciones de loss, tasas de entrenamiento y tasas de regularización.\n",
    "\n",
    "Para ello, usar grid-search y 5-fold cross-validation sobre el conjunto de entrenamiento para explorar muchas combinaciones posibles de valores.\n",
    "\n",
    "Reportar accuracy promedio y varianza para todas las configuraciones.\n",
    "\n",
    "Para la mejor configuración encontrada, evaluar sobre el conjunto de **entrenamiento** y sobre el conjunto de **evaluación**, reportando:\n",
    "- Accuracy\n",
    "- Precision\n",
    "- Recall\n",
    "- F1\n",
    "- matriz de confusión\n",
    "\n",
    "Documentación:\n",
    "- https://scikit-learn.org/stable/modules/grid_search.html\n",
    "- https://scikit-learn.org/stable/modules/generated/sklearn.model_selection.GridSearchCV.html"
   ]
  },
  {
   "cell_type": "markdown",
   "metadata": {},
   "source": [
    "##### Grilla de Parámetros + Validación Cruzada"
   ]
  },
  {
   "cell_type": "code",
   "execution_count": 15,
   "metadata": {},
   "outputs": [],
   "source": [
    "SGDClassifier??"
   ]
  },
  {
   "cell_type": "code",
   "execution_count": 16,
   "metadata": {},
   "outputs": [],
   "source": [
    "from sklearn.utils.fixes import loguniform #Parametros de SGDClassifier\n",
    "from scipy import stats\n",
    "\n",
    "param_grid = {\n",
    "    'loss': [\n",
    "        'hinge',        # SVM\n",
    "        'log',          # logistic regression\n",
    "        'preceptron',  # perceptron (not supported)\n",
    "        'epsilon_insensitive'\n",
    "    ],\n",
    "    #'alpha': ['0.0001','0.00015','0.0002'],   #(tasa de regularización) ##Se rompe\n",
    "    'learning_rate': [\n",
    "        'optimal',\n",
    "        'invscaling',\n",
    "        'adaptive',\n",
    "    ],\n",
    "    'penalty': [\n",
    "        'l2',\n",
    "        'l1',\n",
    "        'elasticnet'\n",
    "        \n",
    "    ]\n",
    "    \n",
    "}"
   ]
  },
  {
   "cell_type": "code",
   "execution_count": 17,
   "metadata": {},
   "outputs": [
    {
     "name": "stdout",
     "output_type": "stream",
     "text": [
      "{'learning_rate': 'optimal', 'loss': 'hinge', 'penalty': 'l2'}\n",
      "{'learning_rate': 'optimal', 'loss': 'hinge', 'penalty': 'l1'}\n",
      "{'learning_rate': 'optimal', 'loss': 'hinge', 'penalty': 'elasticnet'}\n",
      "{'learning_rate': 'optimal', 'loss': 'log', 'penalty': 'l2'}\n",
      "{'learning_rate': 'optimal', 'loss': 'log', 'penalty': 'l1'}\n",
      "{'learning_rate': 'optimal', 'loss': 'log', 'penalty': 'elasticnet'}\n",
      "{'learning_rate': 'optimal', 'loss': 'preceptron', 'penalty': 'l2'}\n",
      "{'learning_rate': 'optimal', 'loss': 'preceptron', 'penalty': 'l1'}\n",
      "{'learning_rate': 'optimal', 'loss': 'preceptron', 'penalty': 'elasticnet'}\n",
      "{'learning_rate': 'optimal', 'loss': 'epsilon_insensitive', 'penalty': 'l2'}\n",
      "{'learning_rate': 'optimal', 'loss': 'epsilon_insensitive', 'penalty': 'l1'}\n",
      "{'learning_rate': 'optimal', 'loss': 'epsilon_insensitive', 'penalty': 'elasticnet'}\n",
      "{'learning_rate': 'invscaling', 'loss': 'hinge', 'penalty': 'l2'}\n",
      "{'learning_rate': 'invscaling', 'loss': 'hinge', 'penalty': 'l1'}\n",
      "{'learning_rate': 'invscaling', 'loss': 'hinge', 'penalty': 'elasticnet'}\n",
      "{'learning_rate': 'invscaling', 'loss': 'log', 'penalty': 'l2'}\n",
      "{'learning_rate': 'invscaling', 'loss': 'log', 'penalty': 'l1'}\n",
      "{'learning_rate': 'invscaling', 'loss': 'log', 'penalty': 'elasticnet'}\n",
      "{'learning_rate': 'invscaling', 'loss': 'preceptron', 'penalty': 'l2'}\n",
      "{'learning_rate': 'invscaling', 'loss': 'preceptron', 'penalty': 'l1'}\n",
      "{'learning_rate': 'invscaling', 'loss': 'preceptron', 'penalty': 'elasticnet'}\n",
      "{'learning_rate': 'invscaling', 'loss': 'epsilon_insensitive', 'penalty': 'l2'}\n",
      "{'learning_rate': 'invscaling', 'loss': 'epsilon_insensitive', 'penalty': 'l1'}\n",
      "{'learning_rate': 'invscaling', 'loss': 'epsilon_insensitive', 'penalty': 'elasticnet'}\n",
      "{'learning_rate': 'adaptive', 'loss': 'hinge', 'penalty': 'l2'}\n",
      "{'learning_rate': 'adaptive', 'loss': 'hinge', 'penalty': 'l1'}\n",
      "{'learning_rate': 'adaptive', 'loss': 'hinge', 'penalty': 'elasticnet'}\n",
      "{'learning_rate': 'adaptive', 'loss': 'log', 'penalty': 'l2'}\n",
      "{'learning_rate': 'adaptive', 'loss': 'log', 'penalty': 'l1'}\n",
      "{'learning_rate': 'adaptive', 'loss': 'log', 'penalty': 'elasticnet'}\n",
      "{'learning_rate': 'adaptive', 'loss': 'preceptron', 'penalty': 'l2'}\n",
      "{'learning_rate': 'adaptive', 'loss': 'preceptron', 'penalty': 'l1'}\n",
      "{'learning_rate': 'adaptive', 'loss': 'preceptron', 'penalty': 'elasticnet'}\n",
      "{'learning_rate': 'adaptive', 'loss': 'epsilon_insensitive', 'penalty': 'l2'}\n",
      "{'learning_rate': 'adaptive', 'loss': 'epsilon_insensitive', 'penalty': 'l1'}\n",
      "{'learning_rate': 'adaptive', 'loss': 'epsilon_insensitive', 'penalty': 'elasticnet'}\n"
     ]
    }
   ],
   "source": [
    "for params in ParameterGrid(param_grid):\n",
    "    print(params)\n",
    "    model = SGDClassifier(**params, random_state=0)"
   ]
  },
  {
   "cell_type": "markdown",
   "metadata": {},
   "source": [
    "##### Búsqueda Aleatoria + Validación Cruzada"
   ]
  },
  {
   "cell_type": "raw",
   "metadata": {},
   "source": [
    "#from sklearn.model_selection import RandomizedSearchCV\n",
    "\n",
    "model = SGDClassifier(random_state=0)\n",
    "\n",
    "cv = RandomizedSearchCV(model, param_dist, n_iter=50, cv=5, random_state=0)\n",
    "cv.fit(X_train, y_train);"
   ]
  },
  {
   "cell_type": "code",
   "execution_count": 18,
   "metadata": {},
   "outputs": [
    {
     "name": "stderr",
     "output_type": "stream",
     "text": [
      "C:\\Anaconda3\\lib\\site-packages\\sklearn\\linear_model\\_stochastic_gradient.py:696: ConvergenceWarning: Maximum number of iteration reached before convergence. Consider increasing max_iter to improve the fit.\n",
      "  warnings.warn(\n",
      "C:\\Anaconda3\\lib\\site-packages\\sklearn\\linear_model\\_stochastic_gradient.py:696: ConvergenceWarning: Maximum number of iteration reached before convergence. Consider increasing max_iter to improve the fit.\n",
      "  warnings.warn(\n",
      "C:\\Anaconda3\\lib\\site-packages\\sklearn\\model_selection\\_validation.py:372: FitFailedWarning: \n",
      "135 fits failed out of a total of 180.\n",
      "The score on these train-test partitions for these parameters will be set to nan.\n",
      "If these failures are not expected, you can try to debug them by setting error_score='raise'.\n",
      "\n",
      "Below are more details about the failures:\n",
      "--------------------------------------------------------------------------------\n",
      "15 fits failed with the following error:\n",
      "Traceback (most recent call last):\n",
      "  File \"C:\\Anaconda3\\lib\\site-packages\\sklearn\\model_selection\\_validation.py\", line 681, in _fit_and_score\n",
      "    estimator.fit(X_train, y_train, **fit_params)\n",
      "  File \"C:\\Anaconda3\\lib\\site-packages\\sklearn\\linear_model\\_stochastic_gradient.py\", line 883, in fit\n",
      "    return self._fit(\n",
      "  File \"C:\\Anaconda3\\lib\\site-packages\\sklearn\\linear_model\\_stochastic_gradient.py\", line 649, in _fit\n",
      "    self._validate_params()\n",
      "  File \"C:\\Anaconda3\\lib\\site-packages\\sklearn\\linear_model\\_stochastic_gradient.py\", line 162, in _validate_params\n",
      "    raise ValueError(\"The loss %s is not supported. \" % self.loss)\n",
      "ValueError: The loss preceptron is not supported. \n",
      "\n",
      "--------------------------------------------------------------------------------\n",
      "120 fits failed with the following error:\n",
      "Traceback (most recent call last):\n",
      "  File \"C:\\Anaconda3\\lib\\site-packages\\sklearn\\model_selection\\_validation.py\", line 681, in _fit_and_score\n",
      "    estimator.fit(X_train, y_train, **fit_params)\n",
      "  File \"C:\\Anaconda3\\lib\\site-packages\\sklearn\\linear_model\\_stochastic_gradient.py\", line 883, in fit\n",
      "    return self._fit(\n",
      "  File \"C:\\Anaconda3\\lib\\site-packages\\sklearn\\linear_model\\_stochastic_gradient.py\", line 649, in _fit\n",
      "    self._validate_params()\n",
      "  File \"C:\\Anaconda3\\lib\\site-packages\\sklearn\\linear_model\\_stochastic_gradient.py\", line 149, in _validate_params\n",
      "    raise ValueError(\"eta0 must be > 0\")\n",
      "ValueError: eta0 must be > 0\n",
      "\n",
      "  warnings.warn(some_fits_failed_message, FitFailedWarning)\n",
      "C:\\Anaconda3\\lib\\site-packages\\sklearn\\model_selection\\_search.py:969: UserWarning: One or more of the test scores are non-finite: [0.83074893 0.83007553 0.6983165  0.83074893 0.56295386 0.698089\n",
      "        nan        nan        nan 0.56903494 0.58923241 0.68619984\n",
      "        nan        nan        nan        nan        nan        nan\n",
      "        nan        nan        nan        nan        nan        nan\n",
      "        nan        nan        nan        nan        nan        nan\n",
      "        nan        nan        nan        nan        nan        nan]\n",
      "  warnings.warn(\n"
     ]
    }
   ],
   "source": [
    "#from sklearn.model_selection import GridSearchCV\n",
    "\n",
    "model = SGDClassifier(random_state=0)\n",
    "\n",
    "cv = GridSearchCV(model, param_grid, scoring='accuracy', cv=5)\n",
    "cv.fit(X_train, y_train);"
   ]
  },
  {
   "cell_type": "code",
   "execution_count": 19,
   "metadata": {},
   "outputs": [],
   "source": [
    "results = cv.cv_results_\n",
    "params = results['params']\n",
    "mean = results['mean_test_score']\n",
    "std = results['std_test_score']\n",
    "rank = results['rank_test_score']\n",
    "\n",
    "#print(\"loss\\tlearning_rate\\tpenalty\\t| mean\\tstd\\trank\") #Acomodar impresión\n",
    "#for p, m, s, r in zip(params, mean, std, rank):\n",
    "  #  print(f\"{p['loss']}\\t{p['learning_rate']}\\t{p['penalty']}\\t| {m:0.2f}\\t{s:0.2f}\\t{r}\")"
   ]
  },
  {
   "cell_type": "code",
   "execution_count": 20,
   "metadata": {},
   "outputs": [
    {
     "data": {
      "text/html": [
       "<div>\n",
       "<style scoped>\n",
       "    .dataframe tbody tr th:only-of-type {\n",
       "        vertical-align: middle;\n",
       "    }\n",
       "\n",
       "    .dataframe tbody tr th {\n",
       "        vertical-align: top;\n",
       "    }\n",
       "\n",
       "    .dataframe thead th {\n",
       "        text-align: right;\n",
       "    }\n",
       "</style>\n",
       "<table border=\"1\" class=\"dataframe\">\n",
       "  <thead>\n",
       "    <tr style=\"text-align: right;\">\n",
       "      <th></th>\n",
       "      <th>mean_fit_time</th>\n",
       "      <th>std_fit_time</th>\n",
       "      <th>mean_score_time</th>\n",
       "      <th>std_score_time</th>\n",
       "      <th>param_learning_rate</th>\n",
       "      <th>param_loss</th>\n",
       "      <th>param_penalty</th>\n",
       "      <th>params</th>\n",
       "      <th>split0_test_score</th>\n",
       "      <th>split1_test_score</th>\n",
       "      <th>split2_test_score</th>\n",
       "      <th>split3_test_score</th>\n",
       "      <th>split4_test_score</th>\n",
       "      <th>mean_test_score</th>\n",
       "      <th>std_test_score</th>\n",
       "      <th>rank_test_score</th>\n",
       "    </tr>\n",
       "  </thead>\n",
       "  <tbody>\n",
       "    <tr>\n",
       "      <th>0</th>\n",
       "      <td>0.006376</td>\n",
       "      <td>0.000498</td>\n",
       "      <td>0.001405</td>\n",
       "      <td>0.000496</td>\n",
       "      <td>optimal</td>\n",
       "      <td>hinge</td>\n",
       "      <td>l2</td>\n",
       "      <td>{'learning_rate': 'optimal', 'loss': 'hinge', ...</td>\n",
       "      <td>0.83165</td>\n",
       "      <td>0.831650</td>\n",
       "      <td>0.828283</td>\n",
       "      <td>0.831081</td>\n",
       "      <td>0.831081</td>\n",
       "      <td>0.830749</td>\n",
       "      <td>0.001259</td>\n",
       "      <td>1</td>\n",
       "    </tr>\n",
       "    <tr>\n",
       "      <th>1</th>\n",
       "      <td>0.007810</td>\n",
       "      <td>0.000931</td>\n",
       "      <td>0.001388</td>\n",
       "      <td>0.000493</td>\n",
       "      <td>optimal</td>\n",
       "      <td>hinge</td>\n",
       "      <td>l1</td>\n",
       "      <td>{'learning_rate': 'optimal', 'loss': 'hinge', ...</td>\n",
       "      <td>0.83165</td>\n",
       "      <td>0.828283</td>\n",
       "      <td>0.828283</td>\n",
       "      <td>0.831081</td>\n",
       "      <td>0.831081</td>\n",
       "      <td>0.830076</td>\n",
       "      <td>0.001478</td>\n",
       "      <td>3</td>\n",
       "    </tr>\n",
       "    <tr>\n",
       "      <th>2</th>\n",
       "      <td>0.007393</td>\n",
       "      <td>0.001353</td>\n",
       "      <td>0.000985</td>\n",
       "      <td>0.000002</td>\n",
       "      <td>optimal</td>\n",
       "      <td>hinge</td>\n",
       "      <td>elasticnet</td>\n",
       "      <td>{'learning_rate': 'optimal', 'loss': 'hinge', ...</td>\n",
       "      <td>0.83165</td>\n",
       "      <td>0.831650</td>\n",
       "      <td>0.828283</td>\n",
       "      <td>0.168919</td>\n",
       "      <td>0.831081</td>\n",
       "      <td>0.698316</td>\n",
       "      <td>0.264702</td>\n",
       "      <td>4</td>\n",
       "    </tr>\n",
       "    <tr>\n",
       "      <th>3</th>\n",
       "      <td>0.010187</td>\n",
       "      <td>0.001933</td>\n",
       "      <td>0.001182</td>\n",
       "      <td>0.000398</td>\n",
       "      <td>optimal</td>\n",
       "      <td>log</td>\n",
       "      <td>l2</td>\n",
       "      <td>{'learning_rate': 'optimal', 'loss': 'log', 'p...</td>\n",
       "      <td>0.83165</td>\n",
       "      <td>0.831650</td>\n",
       "      <td>0.828283</td>\n",
       "      <td>0.831081</td>\n",
       "      <td>0.831081</td>\n",
       "      <td>0.830749</td>\n",
       "      <td>0.001259</td>\n",
       "      <td>1</td>\n",
       "    </tr>\n",
       "    <tr>\n",
       "      <th>4</th>\n",
       "      <td>0.013574</td>\n",
       "      <td>0.002793</td>\n",
       "      <td>0.001786</td>\n",
       "      <td>0.000400</td>\n",
       "      <td>optimal</td>\n",
       "      <td>log</td>\n",
       "      <td>l1</td>\n",
       "      <td>{'learning_rate': 'optimal', 'loss': 'log', 'p...</td>\n",
       "      <td>0.83165</td>\n",
       "      <td>0.168350</td>\n",
       "      <td>0.828283</td>\n",
       "      <td>0.168919</td>\n",
       "      <td>0.817568</td>\n",
       "      <td>0.562954</td>\n",
       "      <td>0.321994</td>\n",
       "      <td>9</td>\n",
       "    </tr>\n",
       "  </tbody>\n",
       "</table>\n",
       "</div>"
      ],
      "text/plain": [
       "   mean_fit_time  std_fit_time  mean_score_time  std_score_time  \\\n",
       "0       0.006376      0.000498         0.001405        0.000496   \n",
       "1       0.007810      0.000931         0.001388        0.000493   \n",
       "2       0.007393      0.001353         0.000985        0.000002   \n",
       "3       0.010187      0.001933         0.001182        0.000398   \n",
       "4       0.013574      0.002793         0.001786        0.000400   \n",
       "\n",
       "  param_learning_rate param_loss param_penalty  \\\n",
       "0             optimal      hinge            l2   \n",
       "1             optimal      hinge            l1   \n",
       "2             optimal      hinge    elasticnet   \n",
       "3             optimal        log            l2   \n",
       "4             optimal        log            l1   \n",
       "\n",
       "                                              params  split0_test_score  \\\n",
       "0  {'learning_rate': 'optimal', 'loss': 'hinge', ...            0.83165   \n",
       "1  {'learning_rate': 'optimal', 'loss': 'hinge', ...            0.83165   \n",
       "2  {'learning_rate': 'optimal', 'loss': 'hinge', ...            0.83165   \n",
       "3  {'learning_rate': 'optimal', 'loss': 'log', 'p...            0.83165   \n",
       "4  {'learning_rate': 'optimal', 'loss': 'log', 'p...            0.83165   \n",
       "\n",
       "   split1_test_score  split2_test_score  split3_test_score  split4_test_score  \\\n",
       "0           0.831650           0.828283           0.831081           0.831081   \n",
       "1           0.828283           0.828283           0.831081           0.831081   \n",
       "2           0.831650           0.828283           0.168919           0.831081   \n",
       "3           0.831650           0.828283           0.831081           0.831081   \n",
       "4           0.168350           0.828283           0.168919           0.817568   \n",
       "\n",
       "   mean_test_score  std_test_score  rank_test_score  \n",
       "0         0.830749        0.001259                1  \n",
       "1         0.830076        0.001478                3  \n",
       "2         0.698316        0.264702                4  \n",
       "3         0.830749        0.001259                1  \n",
       "4         0.562954        0.321994                9  "
      ]
     },
     "execution_count": 20,
     "metadata": {},
     "output_type": "execute_result"
    }
   ],
   "source": [
    "df = pd.DataFrame(results)\n",
    "df.head()"
   ]
  },
  {
   "cell_type": "code",
   "execution_count": 21,
   "metadata": {},
   "outputs": [
    {
     "data": {
      "text/plain": [
       "(36, 16)"
      ]
     },
     "execution_count": 21,
     "metadata": {},
     "output_type": "execute_result"
    }
   ],
   "source": [
    "df.shape"
   ]
  },
  {
   "cell_type": "code",
   "execution_count": 22,
   "metadata": {},
   "outputs": [],
   "source": [
    "df = pd.DataFrame(results)\n",
    "df=df[['param_loss', 'param_learning_rate', 'param_penalty', 'mean_test_score', 'std_test_score', 'rank_test_score']]"
   ]
  },
  {
   "cell_type": "code",
   "execution_count": 23,
   "metadata": {},
   "outputs": [
    {
     "data": {
      "text/html": [
       "<div>\n",
       "<style scoped>\n",
       "    .dataframe tbody tr th:only-of-type {\n",
       "        vertical-align: middle;\n",
       "    }\n",
       "\n",
       "    .dataframe tbody tr th {\n",
       "        vertical-align: top;\n",
       "    }\n",
       "\n",
       "    .dataframe thead th {\n",
       "        text-align: right;\n",
       "    }\n",
       "</style>\n",
       "<table border=\"1\" class=\"dataframe\">\n",
       "  <thead>\n",
       "    <tr style=\"text-align: right;\">\n",
       "      <th></th>\n",
       "      <th>param_loss</th>\n",
       "      <th>param_learning_rate</th>\n",
       "      <th>param_penalty</th>\n",
       "      <th>mean_test_score</th>\n",
       "      <th>std_test_score</th>\n",
       "      <th>rank_test_score</th>\n",
       "    </tr>\n",
       "  </thead>\n",
       "  <tbody>\n",
       "    <tr>\n",
       "      <th>0</th>\n",
       "      <td>hinge</td>\n",
       "      <td>optimal</td>\n",
       "      <td>l2</td>\n",
       "      <td>0.830749</td>\n",
       "      <td>0.001259</td>\n",
       "      <td>1</td>\n",
       "    </tr>\n",
       "    <tr>\n",
       "      <th>3</th>\n",
       "      <td>log</td>\n",
       "      <td>optimal</td>\n",
       "      <td>l2</td>\n",
       "      <td>0.830749</td>\n",
       "      <td>0.001259</td>\n",
       "      <td>1</td>\n",
       "    </tr>\n",
       "    <tr>\n",
       "      <th>1</th>\n",
       "      <td>hinge</td>\n",
       "      <td>optimal</td>\n",
       "      <td>l1</td>\n",
       "      <td>0.830076</td>\n",
       "      <td>0.001478</td>\n",
       "      <td>3</td>\n",
       "    </tr>\n",
       "    <tr>\n",
       "      <th>2</th>\n",
       "      <td>hinge</td>\n",
       "      <td>optimal</td>\n",
       "      <td>elasticnet</td>\n",
       "      <td>0.698316</td>\n",
       "      <td>0.264702</td>\n",
       "      <td>4</td>\n",
       "    </tr>\n",
       "    <tr>\n",
       "      <th>5</th>\n",
       "      <td>log</td>\n",
       "      <td>optimal</td>\n",
       "      <td>elasticnet</td>\n",
       "      <td>0.698089</td>\n",
       "      <td>0.264872</td>\n",
       "      <td>5</td>\n",
       "    </tr>\n",
       "    <tr>\n",
       "      <th>11</th>\n",
       "      <td>epsilon_insensitive</td>\n",
       "      <td>optimal</td>\n",
       "      <td>elasticnet</td>\n",
       "      <td>0.686200</td>\n",
       "      <td>0.256542</td>\n",
       "      <td>6</td>\n",
       "    </tr>\n",
       "    <tr>\n",
       "      <th>10</th>\n",
       "      <td>epsilon_insensitive</td>\n",
       "      <td>optimal</td>\n",
       "      <td>l1</td>\n",
       "      <td>0.589232</td>\n",
       "      <td>0.296885</td>\n",
       "      <td>7</td>\n",
       "    </tr>\n",
       "    <tr>\n",
       "      <th>9</th>\n",
       "      <td>epsilon_insensitive</td>\n",
       "      <td>optimal</td>\n",
       "      <td>l2</td>\n",
       "      <td>0.569035</td>\n",
       "      <td>0.320079</td>\n",
       "      <td>8</td>\n",
       "    </tr>\n",
       "    <tr>\n",
       "      <th>4</th>\n",
       "      <td>log</td>\n",
       "      <td>optimal</td>\n",
       "      <td>l1</td>\n",
       "      <td>0.562954</td>\n",
       "      <td>0.321994</td>\n",
       "      <td>9</td>\n",
       "    </tr>\n",
       "    <tr>\n",
       "      <th>32</th>\n",
       "      <td>preceptron</td>\n",
       "      <td>adaptive</td>\n",
       "      <td>elasticnet</td>\n",
       "      <td>NaN</td>\n",
       "      <td>NaN</td>\n",
       "      <td>10</td>\n",
       "    </tr>\n",
       "    <tr>\n",
       "      <th>31</th>\n",
       "      <td>preceptron</td>\n",
       "      <td>adaptive</td>\n",
       "      <td>l1</td>\n",
       "      <td>NaN</td>\n",
       "      <td>NaN</td>\n",
       "      <td>11</td>\n",
       "    </tr>\n",
       "    <tr>\n",
       "      <th>23</th>\n",
       "      <td>epsilon_insensitive</td>\n",
       "      <td>invscaling</td>\n",
       "      <td>elasticnet</td>\n",
       "      <td>NaN</td>\n",
       "      <td>NaN</td>\n",
       "      <td>12</td>\n",
       "    </tr>\n",
       "    <tr>\n",
       "      <th>30</th>\n",
       "      <td>preceptron</td>\n",
       "      <td>adaptive</td>\n",
       "      <td>l2</td>\n",
       "      <td>NaN</td>\n",
       "      <td>NaN</td>\n",
       "      <td>13</td>\n",
       "    </tr>\n",
       "    <tr>\n",
       "      <th>29</th>\n",
       "      <td>log</td>\n",
       "      <td>adaptive</td>\n",
       "      <td>elasticnet</td>\n",
       "      <td>NaN</td>\n",
       "      <td>NaN</td>\n",
       "      <td>14</td>\n",
       "    </tr>\n",
       "    <tr>\n",
       "      <th>28</th>\n",
       "      <td>log</td>\n",
       "      <td>adaptive</td>\n",
       "      <td>l1</td>\n",
       "      <td>NaN</td>\n",
       "      <td>NaN</td>\n",
       "      <td>15</td>\n",
       "    </tr>\n",
       "    <tr>\n",
       "      <th>27</th>\n",
       "      <td>log</td>\n",
       "      <td>adaptive</td>\n",
       "      <td>l2</td>\n",
       "      <td>NaN</td>\n",
       "      <td>NaN</td>\n",
       "      <td>16</td>\n",
       "    </tr>\n",
       "    <tr>\n",
       "      <th>26</th>\n",
       "      <td>hinge</td>\n",
       "      <td>adaptive</td>\n",
       "      <td>elasticnet</td>\n",
       "      <td>NaN</td>\n",
       "      <td>NaN</td>\n",
       "      <td>17</td>\n",
       "    </tr>\n",
       "    <tr>\n",
       "      <th>25</th>\n",
       "      <td>hinge</td>\n",
       "      <td>adaptive</td>\n",
       "      <td>l1</td>\n",
       "      <td>NaN</td>\n",
       "      <td>NaN</td>\n",
       "      <td>18</td>\n",
       "    </tr>\n",
       "    <tr>\n",
       "      <th>24</th>\n",
       "      <td>hinge</td>\n",
       "      <td>adaptive</td>\n",
       "      <td>l2</td>\n",
       "      <td>NaN</td>\n",
       "      <td>NaN</td>\n",
       "      <td>19</td>\n",
       "    </tr>\n",
       "    <tr>\n",
       "      <th>33</th>\n",
       "      <td>epsilon_insensitive</td>\n",
       "      <td>adaptive</td>\n",
       "      <td>l2</td>\n",
       "      <td>NaN</td>\n",
       "      <td>NaN</td>\n",
       "      <td>20</td>\n",
       "    </tr>\n",
       "    <tr>\n",
       "      <th>22</th>\n",
       "      <td>epsilon_insensitive</td>\n",
       "      <td>invscaling</td>\n",
       "      <td>l1</td>\n",
       "      <td>NaN</td>\n",
       "      <td>NaN</td>\n",
       "      <td>21</td>\n",
       "    </tr>\n",
       "    <tr>\n",
       "      <th>17</th>\n",
       "      <td>log</td>\n",
       "      <td>invscaling</td>\n",
       "      <td>elasticnet</td>\n",
       "      <td>NaN</td>\n",
       "      <td>NaN</td>\n",
       "      <td>22</td>\n",
       "    </tr>\n",
       "    <tr>\n",
       "      <th>20</th>\n",
       "      <td>preceptron</td>\n",
       "      <td>invscaling</td>\n",
       "      <td>elasticnet</td>\n",
       "      <td>NaN</td>\n",
       "      <td>NaN</td>\n",
       "      <td>23</td>\n",
       "    </tr>\n",
       "    <tr>\n",
       "      <th>19</th>\n",
       "      <td>preceptron</td>\n",
       "      <td>invscaling</td>\n",
       "      <td>l1</td>\n",
       "      <td>NaN</td>\n",
       "      <td>NaN</td>\n",
       "      <td>24</td>\n",
       "    </tr>\n",
       "    <tr>\n",
       "      <th>18</th>\n",
       "      <td>preceptron</td>\n",
       "      <td>invscaling</td>\n",
       "      <td>l2</td>\n",
       "      <td>NaN</td>\n",
       "      <td>NaN</td>\n",
       "      <td>25</td>\n",
       "    </tr>\n",
       "    <tr>\n",
       "      <th>34</th>\n",
       "      <td>epsilon_insensitive</td>\n",
       "      <td>adaptive</td>\n",
       "      <td>l1</td>\n",
       "      <td>NaN</td>\n",
       "      <td>NaN</td>\n",
       "      <td>26</td>\n",
       "    </tr>\n",
       "    <tr>\n",
       "      <th>16</th>\n",
       "      <td>log</td>\n",
       "      <td>invscaling</td>\n",
       "      <td>l1</td>\n",
       "      <td>NaN</td>\n",
       "      <td>NaN</td>\n",
       "      <td>27</td>\n",
       "    </tr>\n",
       "    <tr>\n",
       "      <th>15</th>\n",
       "      <td>log</td>\n",
       "      <td>invscaling</td>\n",
       "      <td>l2</td>\n",
       "      <td>NaN</td>\n",
       "      <td>NaN</td>\n",
       "      <td>28</td>\n",
       "    </tr>\n",
       "    <tr>\n",
       "      <th>14</th>\n",
       "      <td>hinge</td>\n",
       "      <td>invscaling</td>\n",
       "      <td>elasticnet</td>\n",
       "      <td>NaN</td>\n",
       "      <td>NaN</td>\n",
       "      <td>29</td>\n",
       "    </tr>\n",
       "    <tr>\n",
       "      <th>13</th>\n",
       "      <td>hinge</td>\n",
       "      <td>invscaling</td>\n",
       "      <td>l1</td>\n",
       "      <td>NaN</td>\n",
       "      <td>NaN</td>\n",
       "      <td>30</td>\n",
       "    </tr>\n",
       "    <tr>\n",
       "      <th>12</th>\n",
       "      <td>hinge</td>\n",
       "      <td>invscaling</td>\n",
       "      <td>l2</td>\n",
       "      <td>NaN</td>\n",
       "      <td>NaN</td>\n",
       "      <td>31</td>\n",
       "    </tr>\n",
       "    <tr>\n",
       "      <th>8</th>\n",
       "      <td>preceptron</td>\n",
       "      <td>optimal</td>\n",
       "      <td>elasticnet</td>\n",
       "      <td>NaN</td>\n",
       "      <td>NaN</td>\n",
       "      <td>32</td>\n",
       "    </tr>\n",
       "    <tr>\n",
       "      <th>7</th>\n",
       "      <td>preceptron</td>\n",
       "      <td>optimal</td>\n",
       "      <td>l1</td>\n",
       "      <td>NaN</td>\n",
       "      <td>NaN</td>\n",
       "      <td>33</td>\n",
       "    </tr>\n",
       "    <tr>\n",
       "      <th>6</th>\n",
       "      <td>preceptron</td>\n",
       "      <td>optimal</td>\n",
       "      <td>l2</td>\n",
       "      <td>NaN</td>\n",
       "      <td>NaN</td>\n",
       "      <td>34</td>\n",
       "    </tr>\n",
       "    <tr>\n",
       "      <th>21</th>\n",
       "      <td>epsilon_insensitive</td>\n",
       "      <td>invscaling</td>\n",
       "      <td>l2</td>\n",
       "      <td>NaN</td>\n",
       "      <td>NaN</td>\n",
       "      <td>35</td>\n",
       "    </tr>\n",
       "    <tr>\n",
       "      <th>35</th>\n",
       "      <td>epsilon_insensitive</td>\n",
       "      <td>adaptive</td>\n",
       "      <td>elasticnet</td>\n",
       "      <td>NaN</td>\n",
       "      <td>NaN</td>\n",
       "      <td>36</td>\n",
       "    </tr>\n",
       "  </tbody>\n",
       "</table>\n",
       "</div>"
      ],
      "text/plain": [
       "             param_loss param_learning_rate param_penalty  mean_test_score  \\\n",
       "0                 hinge             optimal            l2         0.830749   \n",
       "3                   log             optimal            l2         0.830749   \n",
       "1                 hinge             optimal            l1         0.830076   \n",
       "2                 hinge             optimal    elasticnet         0.698316   \n",
       "5                   log             optimal    elasticnet         0.698089   \n",
       "11  epsilon_insensitive             optimal    elasticnet         0.686200   \n",
       "10  epsilon_insensitive             optimal            l1         0.589232   \n",
       "9   epsilon_insensitive             optimal            l2         0.569035   \n",
       "4                   log             optimal            l1         0.562954   \n",
       "32           preceptron            adaptive    elasticnet              NaN   \n",
       "31           preceptron            adaptive            l1              NaN   \n",
       "23  epsilon_insensitive          invscaling    elasticnet              NaN   \n",
       "30           preceptron            adaptive            l2              NaN   \n",
       "29                  log            adaptive    elasticnet              NaN   \n",
       "28                  log            adaptive            l1              NaN   \n",
       "27                  log            adaptive            l2              NaN   \n",
       "26                hinge            adaptive    elasticnet              NaN   \n",
       "25                hinge            adaptive            l1              NaN   \n",
       "24                hinge            adaptive            l2              NaN   \n",
       "33  epsilon_insensitive            adaptive            l2              NaN   \n",
       "22  epsilon_insensitive          invscaling            l1              NaN   \n",
       "17                  log          invscaling    elasticnet              NaN   \n",
       "20           preceptron          invscaling    elasticnet              NaN   \n",
       "19           preceptron          invscaling            l1              NaN   \n",
       "18           preceptron          invscaling            l2              NaN   \n",
       "34  epsilon_insensitive            adaptive            l1              NaN   \n",
       "16                  log          invscaling            l1              NaN   \n",
       "15                  log          invscaling            l2              NaN   \n",
       "14                hinge          invscaling    elasticnet              NaN   \n",
       "13                hinge          invscaling            l1              NaN   \n",
       "12                hinge          invscaling            l2              NaN   \n",
       "8            preceptron             optimal    elasticnet              NaN   \n",
       "7            preceptron             optimal            l1              NaN   \n",
       "6            preceptron             optimal            l2              NaN   \n",
       "21  epsilon_insensitive          invscaling            l2              NaN   \n",
       "35  epsilon_insensitive            adaptive    elasticnet              NaN   \n",
       "\n",
       "    std_test_score  rank_test_score  \n",
       "0         0.001259                1  \n",
       "3         0.001259                1  \n",
       "1         0.001478                3  \n",
       "2         0.264702                4  \n",
       "5         0.264872                5  \n",
       "11        0.256542                6  \n",
       "10        0.296885                7  \n",
       "9         0.320079                8  \n",
       "4         0.321994                9  \n",
       "32             NaN               10  \n",
       "31             NaN               11  \n",
       "23             NaN               12  \n",
       "30             NaN               13  \n",
       "29             NaN               14  \n",
       "28             NaN               15  \n",
       "27             NaN               16  \n",
       "26             NaN               17  \n",
       "25             NaN               18  \n",
       "24             NaN               19  \n",
       "33             NaN               20  \n",
       "22             NaN               21  \n",
       "17             NaN               22  \n",
       "20             NaN               23  \n",
       "19             NaN               24  \n",
       "18             NaN               25  \n",
       "34             NaN               26  \n",
       "16             NaN               27  \n",
       "15             NaN               28  \n",
       "14             NaN               29  \n",
       "13             NaN               30  \n",
       "12             NaN               31  \n",
       "8              NaN               32  \n",
       "7              NaN               33  \n",
       "6              NaN               34  \n",
       "21             NaN               35  \n",
       "35             NaN               36  "
      ]
     },
     "execution_count": 23,
     "metadata": {},
     "output_type": "execute_result"
    }
   ],
   "source": [
    "df = df.sort_values('rank_test_score')\n",
    "df"
   ]
  },
  {
   "cell_type": "code",
   "execution_count": 24,
   "metadata": {},
   "outputs": [
    {
     "data": {
      "text/plain": [
       "SGDClassifier(random_state=0)"
      ]
     },
     "execution_count": 24,
     "metadata": {},
     "output_type": "execute_result"
    }
   ],
   "source": [
    "cv.best_estimator_"
   ]
  },
  {
   "cell_type": "code",
   "execution_count": 25,
   "metadata": {},
   "outputs": [
    {
     "data": {
      "text/plain": [
       "{'learning_rate': 'optimal', 'loss': 'hinge', 'penalty': 'l2'}"
      ]
     },
     "execution_count": 25,
     "metadata": {},
     "output_type": "execute_result"
    }
   ],
   "source": [
    "cv.best_params_"
   ]
  },
  {
   "cell_type": "markdown",
   "metadata": {},
   "source": [
    "**Para la mejor configuración encontrada, evaluar sobre el conjunto de entrenamiento y sobre el conjunto de evaluación, reportando:**\n",
    "\n",
    "\n",
    "Accuracy\n",
    "\n",
    "Precision\n",
    "\n",
    "Recall\n",
    "\n",
    "F1\n",
    "\n",
    "matriz de confusión"
   ]
  },
  {
   "cell_type": "code",
   "execution_count": 26,
   "metadata": {},
   "outputs": [],
   "source": [
    "model = SGDClassifier(learning_rate= 'optimal', loss='hinge', penalty='l2',random_state=0)"
   ]
  },
  {
   "cell_type": "code",
   "execution_count": 27,
   "metadata": {},
   "outputs": [
    {
     "data": {
      "text/plain": [
       "SGDClassifier(random_state=0)"
      ]
     },
     "execution_count": 27,
     "metadata": {},
     "output_type": "execute_result"
    }
   ],
   "source": [
    "model.fit(X_train, y_train)"
   ]
  },
  {
   "cell_type": "code",
   "execution_count": 28,
   "metadata": {},
   "outputs": [],
   "source": [
    "y_train_pred = model.predict(X_train)"
   ]
  },
  {
   "cell_type": "code",
   "execution_count": 29,
   "metadata": {},
   "outputs": [],
   "source": [
    "y_test_pred = model.predict(X_test)"
   ]
  },
  {
   "cell_type": "code",
   "execution_count": 30,
   "metadata": {},
   "outputs": [],
   "source": [
    "#print(classification_report(X_train, y_train_pred)) #(?)"
   ]
  },
  {
   "cell_type": "code",
   "execution_count": 31,
   "metadata": {},
   "outputs": [
    {
     "name": "stdout",
     "output_type": "stream",
     "text": [
      "              precision    recall  f1-score   support\n",
      "\n",
      "           0       0.84      1.00      0.92       313\n",
      "           1       0.00      0.00      0.00        58\n",
      "\n",
      "    accuracy                           0.84       371\n",
      "   macro avg       0.42      0.50      0.46       371\n",
      "weighted avg       0.71      0.84      0.77       371\n",
      "\n"
     ]
    },
    {
     "name": "stderr",
     "output_type": "stream",
     "text": [
      "C:\\Anaconda3\\lib\\site-packages\\sklearn\\metrics\\_classification.py:1308: UndefinedMetricWarning: Precision and F-score are ill-defined and being set to 0.0 in labels with no predicted samples. Use `zero_division` parameter to control this behavior.\n",
      "  _warn_prf(average, modifier, msg_start, len(result))\n",
      "C:\\Anaconda3\\lib\\site-packages\\sklearn\\metrics\\_classification.py:1308: UndefinedMetricWarning: Precision and F-score are ill-defined and being set to 0.0 in labels with no predicted samples. Use `zero_division` parameter to control this behavior.\n",
      "  _warn_prf(average, modifier, msg_start, len(result))\n",
      "C:\\Anaconda3\\lib\\site-packages\\sklearn\\metrics\\_classification.py:1308: UndefinedMetricWarning: Precision and F-score are ill-defined and being set to 0.0 in labels with no predicted samples. Use `zero_division` parameter to control this behavior.\n",
      "  _warn_prf(average, modifier, msg_start, len(result))\n"
     ]
    }
   ],
   "source": [
    "print(classification_report(y_test, y_test_pred))"
   ]
  },
  {
   "cell_type": "code",
   "execution_count": 32,
   "metadata": {},
   "outputs": [],
   "source": [
    "#cm = confusion_matrix(X_train, y_train_pred) #???"
   ]
  },
  {
   "cell_type": "code",
   "execution_count": 33,
   "metadata": {},
   "outputs": [],
   "source": [
    "#plot_confusion_matrix(cm, ['0','1'])"
   ]
  },
  {
   "cell_type": "code",
   "execution_count": 34,
   "metadata": {},
   "outputs": [
    {
     "data": {
      "text/plain": [
       "array([[313,   0],\n",
       "       [ 58,   0]], dtype=int64)"
      ]
     },
     "execution_count": 34,
     "metadata": {},
     "output_type": "execute_result"
    }
   ],
   "source": [
    "cm = confusion_matrix(y_test, y_test_pred)\n",
    "cm"
   ]
  },
  {
   "cell_type": "code",
   "execution_count": 35,
   "metadata": {},
   "outputs": [
    {
     "data": {
      "image/png": "[encoded data removed]",
      "text/plain": [
       "<Figure size 432x288 with 2 Axes>"
      ]
     },
     "metadata": {
      "needs_background": "light"
     },
     "output_type": "display_data"
    }
   ],
   "source": [
    "plot_confusion_matrix(cm, ['0','1'])"
   ]
  },
  {
   "cell_type": "markdown",
   "metadata": {},
   "source": [
    "## Ejercicio 3: Árboles de Decisión\n",
    "\n",
    "En este ejercicio se entrenarán árboles de decisión para predecir la variable objetivo.\n",
    "\n",
    "Para ello, deberán utilizar la clase DecisionTreeClassifier de scikit-learn.\n",
    "\n",
    "Documentación:\n",
    "- https://scikit-learn.org/stable/modules/tree.html\n",
    "  - https://scikit-learn.org/stable/modules/tree.html#tips-on-practical-use\n",
    "- https://scikit-learn.org/stable/modules/generated/sklearn.tree.DecisionTreeClassifier.html\n",
    "- https://scikit-learn.org/stable/auto_examples/tree/plot_unveil_tree_structure.html"
   ]
  },
  {
   "cell_type": "markdown",
   "metadata": {},
   "source": [
    "### Ejercicio 3.1: DecisionTreeClassifier con hiperparámetros por defecto\n",
    "\n",
    "Entrenar y evaluar el clasificador DecisionTreeClassifier usando los valores por omisión de scikit-learn para todos los parámetros. Únicamente **fijar la semilla aleatoria** para hacer repetible el experimento.\n",
    "\n",
    "Evaluar sobre el conjunto de **entrenamiento** y sobre el conjunto de **evaluación**, reportando:\n",
    "- Accuracy\n",
    "- Precision\n",
    "- Recall\n",
    "- F1\n",
    "- matriz de confusión\n"
   ]
  },
  {
   "cell_type": "code",
   "execution_count": 36,
   "metadata": {},
   "outputs": [],
   "source": [
    "model = DecisionTreeClassifier(random_state=0)   "
   ]
  },
  {
   "cell_type": "code",
   "execution_count": 37,
   "metadata": {},
   "outputs": [
    {
     "data": {
      "text/plain": [
       "DecisionTreeClassifier(random_state=0)"
      ]
     },
     "execution_count": 37,
     "metadata": {},
     "output_type": "execute_result"
    }
   ],
   "source": [
    "model.fit(X_train, y_train)"
   ]
  },
  {
   "cell_type": "code",
   "execution_count": 38,
   "metadata": {},
   "outputs": [],
   "source": [
    "y_train_pred = model.predict(X_train)"
   ]
  },
  {
   "cell_type": "code",
   "execution_count": 39,
   "metadata": {},
   "outputs": [],
   "source": [
    "y_test_pred = model.predict(X_test)"
   ]
  },
  {
   "cell_type": "code",
   "execution_count": 40,
   "metadata": {},
   "outputs": [],
   "source": [
    "#print(classification_report(X_train, y_train_pred)) #(?)"
   ]
  },
  {
   "cell_type": "code",
   "execution_count": 41,
   "metadata": {},
   "outputs": [
    {
     "name": "stdout",
     "output_type": "stream",
     "text": [
      "              precision    recall  f1-score   support\n",
      "\n",
      "           0       0.93      0.93      0.93       313\n",
      "           1       0.62      0.64      0.63        58\n",
      "\n",
      "    accuracy                           0.88       371\n",
      "   macro avg       0.77      0.78      0.78       371\n",
      "weighted avg       0.88      0.88      0.88       371\n",
      "\n"
     ]
    }
   ],
   "source": [
    "print(classification_report(y_test, y_test_pred))"
   ]
  },
  {
   "cell_type": "markdown",
   "metadata": {},
   "source": [
    "#### Matrices de Confusión"
   ]
  },
  {
   "cell_type": "code",
   "execution_count": 42,
   "metadata": {},
   "outputs": [],
   "source": [
    "#cm = confusion_matrix(X_train, y_train_pred) #???"
   ]
  },
  {
   "cell_type": "code",
   "execution_count": 43,
   "metadata": {},
   "outputs": [],
   "source": [
    "#plot_confusion_matrix(cm, ['0','1'])"
   ]
  },
  {
   "cell_type": "code",
   "execution_count": 44,
   "metadata": {},
   "outputs": [
    {
     "data": {
      "text/plain": [
       "array([[290,  23],\n",
       "       [ 21,  37]], dtype=int64)"
      ]
     },
     "execution_count": 44,
     "metadata": {},
     "output_type": "execute_result"
    }
   ],
   "source": [
    "cm = confusion_matrix(y_test, y_test_pred)\n",
    "cm"
   ]
  },
  {
   "cell_type": "code",
   "execution_count": 45,
   "metadata": {},
   "outputs": [
    {
     "data": {
      "image/png": "[encoded data removed]",
      "text/plain": [
       "<Figure size 432x288 with 2 Axes>"
      ]
     },
     "metadata": {
      "needs_background": "light"
     },
     "output_type": "display_data"
    }
   ],
   "source": [
    "plot_confusion_matrix(cm, ['0','1'])"
   ]
  },
  {
   "cell_type": "markdown",
   "metadata": {},
   "source": [
    "### Ejercicio 3.2: Ajuste de Hiperparámetros\n",
    "\n",
    "Seleccionar valores para los hiperparámetros principales del DecisionTreeClassifier. Como mínimo, probar diferentes criterios de partición (criterion), profundidad máxima del árbol (max_depth), y cantidad mínima de samples por hoja (min_samples_leaf).\n",
    "\n",
    "Para ello, usar grid-search y 5-fold cross-validation sobre el conjunto de entrenamiento para explorar muchas combinaciones posibles de valores.\n",
    "\n",
    "Reportar accuracy promedio y varianza para todas las configuraciones.\n",
    "\n",
    "Para la mejor configuración encontrada, evaluar sobre el conjunto de **entrenamiento** y sobre el conjunto de **evaluación**, reportando:\n",
    "- Accuracy\n",
    "- Precision\n",
    "- Recall\n",
    "- F1\n",
    "- matriz de confusión\n",
    "\n",
    "\n",
    "Documentación:\n",
    "- https://scikit-learn.org/stable/modules/grid_search.html\n",
    "- https://scikit-learn.org/stable/modules/generated/sklearn.model_selection.GridSearchCV.html"
   ]
  },
  {
   "cell_type": "markdown",
   "metadata": {},
   "source": [
    "##### Grilla de Parámetros + Validación Cruzada"
   ]
  },
  {
   "cell_type": "code",
   "execution_count": 46,
   "metadata": {},
   "outputs": [],
   "source": [
    "DecisionTreeClassifier??"
   ]
  },
  {
   "cell_type": "code",
   "execution_count": 47,
   "metadata": {},
   "outputs": [],
   "source": [
    "param_grid = {\n",
    "    'criterion': ['gini', 'entropy'],\n",
    "    'splitter':['best','random'],\n",
    "    'max_depth': [1, 2, 3, 4, 5],\n",
    "#'min_samples_leaf':['int','float'] ###se rompe \"'<' not supported between instances of 'float' and 'str'\"\n",
    "}"
   ]
  },
  {
   "cell_type": "markdown",
   "metadata": {},
   "source": [
    "Podemos listar todas las combinaciones para usarlas a mano con ParameterGrid:"
   ]
  },
  {
   "cell_type": "code",
   "execution_count": 48,
   "metadata": {},
   "outputs": [
    {
     "name": "stdout",
     "output_type": "stream",
     "text": [
      "{'criterion': 'gini', 'max_depth': 1, 'splitter': 'best'}\n",
      "{'criterion': 'gini', 'max_depth': 1, 'splitter': 'random'}\n",
      "{'criterion': 'gini', 'max_depth': 2, 'splitter': 'best'}\n",
      "{'criterion': 'gini', 'max_depth': 2, 'splitter': 'random'}\n",
      "{'criterion': 'gini', 'max_depth': 3, 'splitter': 'best'}\n",
      "{'criterion': 'gini', 'max_depth': 3, 'splitter': 'random'}\n",
      "{'criterion': 'gini', 'max_depth': 4, 'splitter': 'best'}\n",
      "{'criterion': 'gini', 'max_depth': 4, 'splitter': 'random'}\n",
      "{'criterion': 'gini', 'max_depth': 5, 'splitter': 'best'}\n",
      "{'criterion': 'gini', 'max_depth': 5, 'splitter': 'random'}\n",
      "{'criterion': 'entropy', 'max_depth': 1, 'splitter': 'best'}\n",
      "{'criterion': 'entropy', 'max_depth': 1, 'splitter': 'random'}\n",
      "{'criterion': 'entropy', 'max_depth': 2, 'splitter': 'best'}\n",
      "{'criterion': 'entropy', 'max_depth': 2, 'splitter': 'random'}\n",
      "{'criterion': 'entropy', 'max_depth': 3, 'splitter': 'best'}\n",
      "{'criterion': 'entropy', 'max_depth': 3, 'splitter': 'random'}\n",
      "{'criterion': 'entropy', 'max_depth': 4, 'splitter': 'best'}\n",
      "{'criterion': 'entropy', 'max_depth': 4, 'splitter': 'random'}\n",
      "{'criterion': 'entropy', 'max_depth': 5, 'splitter': 'best'}\n",
      "{'criterion': 'entropy', 'max_depth': 5, 'splitter': 'random'}\n"
     ]
    }
   ],
   "source": [
    "#from sklearn.model_selection import ParameterGrid\n",
    "\n",
    "for params in ParameterGrid(param_grid):\n",
    "    print(params)\n",
    "    model = DecisionTreeClassifier(**params, random_state=0)\n",
    "   "
   ]
  },
  {
   "cell_type": "code",
   "execution_count": 49,
   "metadata": {},
   "outputs": [],
   "source": [
    "#from sklearn.model_selection import GridSearchCV\n",
    "\n",
    "model = DecisionTreeClassifier(random_state=0)\n",
    "\n",
    "cv = GridSearchCV(model, param_grid, scoring='accuracy', cv=5)\n",
    "cv.fit(X_train, y_train);"
   ]
  },
  {
   "cell_type": "code",
   "execution_count": 50,
   "metadata": {},
   "outputs": [
    {
     "name": "stdout",
     "output_type": "stream",
     "text": [
      "crit.\tdepth\tsplitter\t| mean\tstd\trank\n",
      "gini\t1\tbest\t| 0.87\t0.01\t9\n",
      "gini\t1\trandom\t| 0.83\t0.01\t19\n",
      "gini\t2\tbest\t| 0.87\t0.01\t6\n",
      "gini\t2\trandom\t| 0.85\t0.00\t16\n",
      "gini\t3\tbest\t| 0.88\t0.01\t2\n",
      "gini\t3\trandom\t| 0.85\t0.01\t15\n",
      "gini\t4\tbest\t| 0.88\t0.01\t1\n",
      "gini\t4\trandom\t| 0.87\t0.01\t14\n",
      "gini\t5\tbest\t| 0.87\t0.01\t4\n",
      "gini\t5\trandom\t| 0.87\t0.02\t8\n",
      "entropy\t1\tbest\t| 0.87\t0.01\t9\n",
      "entropy\t1\trandom\t| 0.83\t0.01\t19\n",
      "entropy\t2\tbest\t| 0.87\t0.01\t12\n",
      "entropy\t2\trandom\t| 0.85\t0.00\t16\n",
      "entropy\t3\tbest\t| 0.87\t0.01\t5\n",
      "entropy\t3\trandom\t| 0.85\t0.01\t16\n",
      "entropy\t4\tbest\t| 0.87\t0.01\t6\n",
      "entropy\t4\trandom\t| 0.87\t0.02\t13\n",
      "entropy\t5\tbest\t| 0.88\t0.01\t3\n",
      "entropy\t5\trandom\t| 0.87\t0.01\t11\n"
     ]
    }
   ],
   "source": [
    "results = cv.cv_results_\n",
    "params = results['params']\n",
    "mean = results['mean_test_score']\n",
    "std = results['std_test_score']\n",
    "rank = results['rank_test_score']\n",
    "\n",
    "print(\"crit.\\tdepth\\tsplitter\\t| mean\\tstd\\trank\") #Acomodar impresión\n",
    "for p, m, s, r in zip(params, mean, std, rank):\n",
    "    print(f\"{p['criterion']}\\t{p['max_depth']}\\t{p['splitter']}\\t| {m:0.2f}\\t{s:0.2f}\\t{r}\")"
   ]
  },
  {
   "cell_type": "code",
   "execution_count": 51,
   "metadata": {},
   "outputs": [
    {
     "data": {
      "text/html": [
       "<div>\n",
       "<style scoped>\n",
       "    .dataframe tbody tr th:only-of-type {\n",
       "        vertical-align: middle;\n",
       "    }\n",
       "\n",
       "    .dataframe tbody tr th {\n",
       "        vertical-align: top;\n",
       "    }\n",
       "\n",
       "    .dataframe thead th {\n",
       "        text-align: right;\n",
       "    }\n",
       "</style>\n",
       "<table border=\"1\" class=\"dataframe\">\n",
       "  <thead>\n",
       "    <tr style=\"text-align: right;\">\n",
       "      <th></th>\n",
       "      <th>mean_fit_time</th>\n",
       "      <th>std_fit_time</th>\n",
       "      <th>mean_score_time</th>\n",
       "      <th>std_score_time</th>\n",
       "      <th>param_criterion</th>\n",
       "      <th>param_max_depth</th>\n",
       "      <th>param_splitter</th>\n",
       "      <th>params</th>\n",
       "      <th>split0_test_score</th>\n",
       "      <th>split1_test_score</th>\n",
       "      <th>split2_test_score</th>\n",
       "      <th>split3_test_score</th>\n",
       "      <th>split4_test_score</th>\n",
       "      <th>mean_test_score</th>\n",
       "      <th>std_test_score</th>\n",
       "      <th>rank_test_score</th>\n",
       "    </tr>\n",
       "  </thead>\n",
       "  <tbody>\n",
       "    <tr>\n",
       "      <th>0</th>\n",
       "      <td>0.003188</td>\n",
       "      <td>0.000401</td>\n",
       "      <td>0.001806</td>\n",
       "      <td>0.000404</td>\n",
       "      <td>gini</td>\n",
       "      <td>1</td>\n",
       "      <td>best</td>\n",
       "      <td>{'criterion': 'gini', 'max_depth': 1, 'splitte...</td>\n",
       "      <td>0.858586</td>\n",
       "      <td>0.861953</td>\n",
       "      <td>0.872054</td>\n",
       "      <td>0.885135</td>\n",
       "      <td>0.868243</td>\n",
       "      <td>0.869194</td>\n",
       "      <td>0.009254</td>\n",
       "      <td>9</td>\n",
       "    </tr>\n",
       "    <tr>\n",
       "      <th>1</th>\n",
       "      <td>0.002783</td>\n",
       "      <td>0.000725</td>\n",
       "      <td>0.001810</td>\n",
       "      <td>0.000388</td>\n",
       "      <td>gini</td>\n",
       "      <td>1</td>\n",
       "      <td>random</td>\n",
       "      <td>{'criterion': 'gini', 'max_depth': 1, 'splitte...</td>\n",
       "      <td>0.828283</td>\n",
       "      <td>0.855219</td>\n",
       "      <td>0.824916</td>\n",
       "      <td>0.831081</td>\n",
       "      <td>0.820946</td>\n",
       "      <td>0.832089</td>\n",
       "      <td>0.012051</td>\n",
       "      <td>19</td>\n",
       "    </tr>\n",
       "    <tr>\n",
       "      <th>2</th>\n",
       "      <td>0.003787</td>\n",
       "      <td>0.000398</td>\n",
       "      <td>0.001591</td>\n",
       "      <td>0.000485</td>\n",
       "      <td>gini</td>\n",
       "      <td>2</td>\n",
       "      <td>best</td>\n",
       "      <td>{'criterion': 'gini', 'max_depth': 2, 'splitte...</td>\n",
       "      <td>0.858586</td>\n",
       "      <td>0.875421</td>\n",
       "      <td>0.872054</td>\n",
       "      <td>0.881757</td>\n",
       "      <td>0.871622</td>\n",
       "      <td>0.871888</td>\n",
       "      <td>0.007575</td>\n",
       "      <td>6</td>\n",
       "    </tr>\n",
       "    <tr>\n",
       "      <th>3</th>\n",
       "      <td>0.002387</td>\n",
       "      <td>0.000802</td>\n",
       "      <td>0.001204</td>\n",
       "      <td>0.000395</td>\n",
       "      <td>gini</td>\n",
       "      <td>2</td>\n",
       "      <td>random</td>\n",
       "      <td>{'criterion': 'gini', 'max_depth': 2, 'splitte...</td>\n",
       "      <td>0.851852</td>\n",
       "      <td>0.848485</td>\n",
       "      <td>0.848485</td>\n",
       "      <td>0.847973</td>\n",
       "      <td>0.851351</td>\n",
       "      <td>0.849629</td>\n",
       "      <td>0.001629</td>\n",
       "      <td>16</td>\n",
       "    </tr>\n",
       "    <tr>\n",
       "      <th>4</th>\n",
       "      <td>0.003595</td>\n",
       "      <td>0.000474</td>\n",
       "      <td>0.001801</td>\n",
       "      <td>0.000403</td>\n",
       "      <td>gini</td>\n",
       "      <td>3</td>\n",
       "      <td>best</td>\n",
       "      <td>{'criterion': 'gini', 'max_depth': 3, 'splitte...</td>\n",
       "      <td>0.868687</td>\n",
       "      <td>0.875421</td>\n",
       "      <td>0.882155</td>\n",
       "      <td>0.895270</td>\n",
       "      <td>0.868243</td>\n",
       "      <td>0.877955</td>\n",
       "      <td>0.010041</td>\n",
       "      <td>2</td>\n",
       "    </tr>\n",
       "  </tbody>\n",
       "</table>\n",
       "</div>"
      ],
      "text/plain": [
       "   mean_fit_time  std_fit_time  mean_score_time  std_score_time  \\\n",
       "0       0.003188      0.000401         0.001806        0.000404   \n",
       "1       0.002783      0.000725         0.001810        0.000388   \n",
       "2       0.003787      0.000398         0.001591        0.000485   \n",
       "3       0.002387      0.000802         0.001204        0.000395   \n",
       "4       0.003595      0.000474         0.001801        0.000403   \n",
       "\n",
       "  param_criterion param_max_depth param_splitter  \\\n",
       "0            gini               1           best   \n",
       "1            gini               1         random   \n",
       "2            gini               2           best   \n",
       "3            gini               2         random   \n",
       "4            gini               3           best   \n",
       "\n",
       "                                              params  split0_test_score  \\\n",
       "0  {'criterion': 'gini', 'max_depth': 1, 'splitte...           0.858586   \n",
       "1  {'criterion': 'gini', 'max_depth': 1, 'splitte...           0.828283   \n",
       "2  {'criterion': 'gini', 'max_depth': 2, 'splitte...           0.858586   \n",
       "3  {'criterion': 'gini', 'max_depth': 2, 'splitte...           0.851852   \n",
       "4  {'criterion': 'gini', 'max_depth': 3, 'splitte...           0.868687   \n",
       "\n",
       "   split1_test_score  split2_test_score  split3_test_score  split4_test_score  \\\n",
       "0           0.861953           0.872054           0.885135           0.868243   \n",
       "1           0.855219           0.824916           0.831081           0.820946   \n",
       "2           0.875421           0.872054           0.881757           0.871622   \n",
       "3           0.848485           0.848485           0.847973           0.851351   \n",
       "4           0.875421           0.882155           0.895270           0.868243   \n",
       "\n",
       "   mean_test_score  std_test_score  rank_test_score  \n",
       "0         0.869194        0.009254                9  \n",
       "1         0.832089        0.012051               19  \n",
       "2         0.871888        0.007575                6  \n",
       "3         0.849629        0.001629               16  \n",
       "4         0.877955        0.010041                2  "
      ]
     },
     "execution_count": 51,
     "metadata": {},
     "output_type": "execute_result"
    }
   ],
   "source": [
    "df = pd.DataFrame(results)\n",
    "df.head()"
   ]
  },
  {
   "cell_type": "code",
   "execution_count": 52,
   "metadata": {},
   "outputs": [
    {
     "data": {
      "text/plain": [
       "(20, 16)"
      ]
     },
     "execution_count": 52,
     "metadata": {},
     "output_type": "execute_result"
    }
   ],
   "source": [
    "df.shape # 20 combinaciones de parametros"
   ]
  },
  {
   "cell_type": "code",
   "execution_count": 53,
   "metadata": {},
   "outputs": [],
   "source": [
    "df = pd.DataFrame(results)\n",
    "df=df[['param_criterion', 'param_max_depth', 'param_splitter', 'mean_test_score', 'std_test_score', 'rank_test_score']]"
   ]
  },
  {
   "cell_type": "code",
   "execution_count": 54,
   "metadata": {},
   "outputs": [
    {
     "data": {
      "text/html": [
       "<div>\n",
       "<style scoped>\n",
       "    .dataframe tbody tr th:only-of-type {\n",
       "        vertical-align: middle;\n",
       "    }\n",
       "\n",
       "    .dataframe tbody tr th {\n",
       "        vertical-align: top;\n",
       "    }\n",
       "\n",
       "    .dataframe thead th {\n",
       "        text-align: right;\n",
       "    }\n",
       "</style>\n",
       "<table border=\"1\" class=\"dataframe\">\n",
       "  <thead>\n",
       "    <tr style=\"text-align: right;\">\n",
       "      <th></th>\n",
       "      <th>param_criterion</th>\n",
       "      <th>param_max_depth</th>\n",
       "      <th>param_splitter</th>\n",
       "      <th>mean_test_score</th>\n",
       "      <th>std_test_score</th>\n",
       "      <th>rank_test_score</th>\n",
       "    </tr>\n",
       "  </thead>\n",
       "  <tbody>\n",
       "    <tr>\n",
       "      <th>6</th>\n",
       "      <td>gini</td>\n",
       "      <td>4</td>\n",
       "      <td>best</td>\n",
       "      <td>0.878633</td>\n",
       "      <td>0.014701</td>\n",
       "      <td>1</td>\n",
       "    </tr>\n",
       "    <tr>\n",
       "      <th>4</th>\n",
       "      <td>gini</td>\n",
       "      <td>3</td>\n",
       "      <td>best</td>\n",
       "      <td>0.877955</td>\n",
       "      <td>0.010041</td>\n",
       "      <td>2</td>\n",
       "    </tr>\n",
       "    <tr>\n",
       "      <th>18</th>\n",
       "      <td>entropy</td>\n",
       "      <td>5</td>\n",
       "      <td>best</td>\n",
       "      <td>0.876611</td>\n",
       "      <td>0.008553</td>\n",
       "      <td>3</td>\n",
       "    </tr>\n",
       "    <tr>\n",
       "      <th>8</th>\n",
       "      <td>gini</td>\n",
       "      <td>5</td>\n",
       "      <td>best</td>\n",
       "      <td>0.874584</td>\n",
       "      <td>0.014342</td>\n",
       "      <td>4</td>\n",
       "    </tr>\n",
       "    <tr>\n",
       "      <th>14</th>\n",
       "      <td>entropy</td>\n",
       "      <td>3</td>\n",
       "      <td>best</td>\n",
       "      <td>0.873239</td>\n",
       "      <td>0.013509</td>\n",
       "      <td>5</td>\n",
       "    </tr>\n",
       "    <tr>\n",
       "      <th>16</th>\n",
       "      <td>entropy</td>\n",
       "      <td>4</td>\n",
       "      <td>best</td>\n",
       "      <td>0.871888</td>\n",
       "      <td>0.013589</td>\n",
       "      <td>6</td>\n",
       "    </tr>\n",
       "    <tr>\n",
       "      <th>2</th>\n",
       "      <td>gini</td>\n",
       "      <td>2</td>\n",
       "      <td>best</td>\n",
       "      <td>0.871888</td>\n",
       "      <td>0.007575</td>\n",
       "      <td>6</td>\n",
       "    </tr>\n",
       "    <tr>\n",
       "      <th>9</th>\n",
       "      <td>gini</td>\n",
       "      <td>5</td>\n",
       "      <td>random</td>\n",
       "      <td>0.869872</td>\n",
       "      <td>0.016777</td>\n",
       "      <td>8</td>\n",
       "    </tr>\n",
       "    <tr>\n",
       "      <th>10</th>\n",
       "      <td>entropy</td>\n",
       "      <td>1</td>\n",
       "      <td>best</td>\n",
       "      <td>0.869194</td>\n",
       "      <td>0.009254</td>\n",
       "      <td>9</td>\n",
       "    </tr>\n",
       "    <tr>\n",
       "      <th>0</th>\n",
       "      <td>gini</td>\n",
       "      <td>1</td>\n",
       "      <td>best</td>\n",
       "      <td>0.869194</td>\n",
       "      <td>0.009254</td>\n",
       "      <td>9</td>\n",
       "    </tr>\n",
       "    <tr>\n",
       "      <th>19</th>\n",
       "      <td>entropy</td>\n",
       "      <td>5</td>\n",
       "      <td>random</td>\n",
       "      <td>0.869187</td>\n",
       "      <td>0.008588</td>\n",
       "      <td>11</td>\n",
       "    </tr>\n",
       "    <tr>\n",
       "      <th>12</th>\n",
       "      <td>entropy</td>\n",
       "      <td>2</td>\n",
       "      <td>best</td>\n",
       "      <td>0.868519</td>\n",
       "      <td>0.008119</td>\n",
       "      <td>12</td>\n",
       "    </tr>\n",
       "    <tr>\n",
       "      <th>17</th>\n",
       "      <td>entropy</td>\n",
       "      <td>4</td>\n",
       "      <td>random</td>\n",
       "      <td>0.866503</td>\n",
       "      <td>0.016492</td>\n",
       "      <td>13</td>\n",
       "    </tr>\n",
       "    <tr>\n",
       "      <th>7</th>\n",
       "      <td>gini</td>\n",
       "      <td>4</td>\n",
       "      <td>random</td>\n",
       "      <td>0.866501</td>\n",
       "      <td>0.014761</td>\n",
       "      <td>14</td>\n",
       "    </tr>\n",
       "    <tr>\n",
       "      <th>5</th>\n",
       "      <td>gini</td>\n",
       "      <td>3</td>\n",
       "      <td>random</td>\n",
       "      <td>0.849631</td>\n",
       "      <td>0.013582</td>\n",
       "      <td>15</td>\n",
       "    </tr>\n",
       "    <tr>\n",
       "      <th>13</th>\n",
       "      <td>entropy</td>\n",
       "      <td>2</td>\n",
       "      <td>random</td>\n",
       "      <td>0.849629</td>\n",
       "      <td>0.001629</td>\n",
       "      <td>16</td>\n",
       "    </tr>\n",
       "    <tr>\n",
       "      <th>3</th>\n",
       "      <td>gini</td>\n",
       "      <td>2</td>\n",
       "      <td>random</td>\n",
       "      <td>0.849629</td>\n",
       "      <td>0.001629</td>\n",
       "      <td>16</td>\n",
       "    </tr>\n",
       "    <tr>\n",
       "      <th>15</th>\n",
       "      <td>entropy</td>\n",
       "      <td>3</td>\n",
       "      <td>random</td>\n",
       "      <td>0.849629</td>\n",
       "      <td>0.012916</td>\n",
       "      <td>16</td>\n",
       "    </tr>\n",
       "    <tr>\n",
       "      <th>11</th>\n",
       "      <td>entropy</td>\n",
       "      <td>1</td>\n",
       "      <td>random</td>\n",
       "      <td>0.832089</td>\n",
       "      <td>0.012051</td>\n",
       "      <td>19</td>\n",
       "    </tr>\n",
       "    <tr>\n",
       "      <th>1</th>\n",
       "      <td>gini</td>\n",
       "      <td>1</td>\n",
       "      <td>random</td>\n",
       "      <td>0.832089</td>\n",
       "      <td>0.012051</td>\n",
       "      <td>19</td>\n",
       "    </tr>\n",
       "  </tbody>\n",
       "</table>\n",
       "</div>"
      ],
      "text/plain": [
       "   param_criterion param_max_depth param_splitter  mean_test_score  \\\n",
       "6             gini               4           best         0.878633   \n",
       "4             gini               3           best         0.877955   \n",
       "18         entropy               5           best         0.876611   \n",
       "8             gini               5           best         0.874584   \n",
       "14         entropy               3           best         0.873239   \n",
       "16         entropy               4           best         0.871888   \n",
       "2             gini               2           best         0.871888   \n",
       "9             gini               5         random         0.869872   \n",
       "10         entropy               1           best         0.869194   \n",
       "0             gini               1           best         0.869194   \n",
       "19         entropy               5         random         0.869187   \n",
       "12         entropy               2           best         0.868519   \n",
       "17         entropy               4         random         0.866503   \n",
       "7             gini               4         random         0.866501   \n",
       "5             gini               3         random         0.849631   \n",
       "13         entropy               2         random         0.849629   \n",
       "3             gini               2         random         0.849629   \n",
       "15         entropy               3         random         0.849629   \n",
       "11         entropy               1         random         0.832089   \n",
       "1             gini               1         random         0.832089   \n",
       "\n",
       "    std_test_score  rank_test_score  \n",
       "6         0.014701                1  \n",
       "4         0.010041                2  \n",
       "18        0.008553                3  \n",
       "8         0.014342                4  \n",
       "14        0.013509                5  \n",
       "16        0.013589                6  \n",
       "2         0.007575                6  \n",
       "9         0.016777                8  \n",
       "10        0.009254                9  \n",
       "0         0.009254                9  \n",
       "19        0.008588               11  \n",
       "12        0.008119               12  \n",
       "17        0.016492               13  \n",
       "7         0.014761               14  \n",
       "5         0.013582               15  \n",
       "13        0.001629               16  \n",
       "3         0.001629               16  \n",
       "15        0.012916               16  \n",
       "11        0.012051               19  \n",
       "1         0.012051               19  "
      ]
     },
     "execution_count": 54,
     "metadata": {},
     "output_type": "execute_result"
    }
   ],
   "source": [
    "df = df.sort_values('rank_test_score')\n",
    "df"
   ]
  },
  {
   "cell_type": "code",
   "execution_count": 55,
   "metadata": {},
   "outputs": [],
   "source": [
    "best_model = cv.best_estimator_"
   ]
  },
  {
   "cell_type": "code",
   "execution_count": 56,
   "metadata": {},
   "outputs": [
    {
     "data": {
      "text/plain": [
       "{'criterion': 'gini', 'max_depth': 4, 'splitter': 'best'}"
      ]
     },
     "execution_count": 56,
     "metadata": {},
     "output_type": "execute_result"
    }
   ],
   "source": [
    "cv.best_params_ #index 6 del df"
   ]
  },
  {
   "cell_type": "code",
   "execution_count": 57,
   "metadata": {},
   "outputs": [
    {
     "data": {
      "image/png": "[encoded data removed]",
      "text/plain": [
       "<Figure size 432x288 with 1 Axes>"
      ]
     },
     "metadata": {
      "needs_background": "light"
     },
     "output_type": "display_data"
    }
   ],
   "source": [
    "#from sklearn.tree import plot_tree\n",
    "\n",
    "plot_tree(best_model);"
   ]
  },
  {
   "cell_type": "markdown",
   "metadata": {},
   "source": [
    "**Para la mejor configuración encontrada, evaluar sobre el conjunto de entrenamiento y sobre el conjunto de evaluación, reportando:**\n",
    "\n",
    "\n",
    "Accuracy\n",
    "\n",
    "Precision\n",
    "\n",
    "Recall\n",
    "\n",
    "F1\n",
    "\n",
    "matriz de confusión"
   ]
  },
  {
   "cell_type": "code",
   "execution_count": 58,
   "metadata": {},
   "outputs": [],
   "source": [
    "model = DecisionTreeClassifier(criterion='gini', max_depth= 4, splitter='best',  random_state=0)  "
   ]
  },
  {
   "cell_type": "code",
   "execution_count": 59,
   "metadata": {},
   "outputs": [
    {
     "data": {
      "text/plain": [
       "DecisionTreeClassifier(max_depth=4, random_state=0)"
      ]
     },
     "execution_count": 59,
     "metadata": {},
     "output_type": "execute_result"
    }
   ],
   "source": [
    "model.fit(X_train, y_train)"
   ]
  },
  {
   "cell_type": "code",
   "execution_count": 60,
   "metadata": {},
   "outputs": [],
   "source": [
    "y_train_pred = model.predict(X_train)"
   ]
  },
  {
   "cell_type": "code",
   "execution_count": 61,
   "metadata": {},
   "outputs": [],
   "source": [
    "y_test_pred = model.predict(X_test)"
   ]
  },
  {
   "cell_type": "code",
   "execution_count": 62,
   "metadata": {},
   "outputs": [],
   "source": [
    "#print(classification_report(X_train, y_train_pred)) #(?)"
   ]
  },
  {
   "cell_type": "code",
   "execution_count": 63,
   "metadata": {},
   "outputs": [
    {
     "name": "stdout",
     "output_type": "stream",
     "text": [
      "              precision    recall  f1-score   support\n",
      "\n",
      "           0       0.90      0.97      0.93       313\n",
      "           1       0.72      0.40      0.51        58\n",
      "\n",
      "    accuracy                           0.88       371\n",
      "   macro avg       0.81      0.68      0.72       371\n",
      "weighted avg       0.87      0.88      0.87       371\n",
      "\n"
     ]
    }
   ],
   "source": [
    "print(classification_report(y_test, y_test_pred))"
   ]
  },
  {
   "cell_type": "code",
   "execution_count": 64,
   "metadata": {},
   "outputs": [],
   "source": [
    "#cm = confusion_matrix(X_train, y_train_pred) #???"
   ]
  },
  {
   "cell_type": "code",
   "execution_count": 65,
   "metadata": {},
   "outputs": [],
   "source": [
    "#plot_confusion_matrix(cm, ['0','1'])"
   ]
  },
  {
   "cell_type": "code",
   "execution_count": 66,
   "metadata": {},
   "outputs": [
    {
     "data": {
      "text/plain": [
       "array([[304,   9],\n",
       "       [ 35,  23]], dtype=int64)"
      ]
     },
     "execution_count": 66,
     "metadata": {},
     "output_type": "execute_result"
    }
   ],
   "source": [
    "cm = confusion_matrix(y_test, y_test_pred)\n",
    "cm"
   ]
  },
  {
   "cell_type": "code",
   "execution_count": 67,
   "metadata": {},
   "outputs": [
    {
     "data": {
      "image/png": "[encoded data removed]",
      "text/plain": [
       "<Figure size 432x288 with 2 Axes>"
      ]
     },
     "metadata": {
      "needs_background": "light"
     },
     "output_type": "display_data"
    }
   ],
   "source": [
    "plot_confusion_matrix(cm, ['0','1'])"
   ]
  },
  {
   "cell_type": "code",
   "execution_count": null,
   "metadata": {},
   "outputs": [],
   "source": []
  }
 ],
 "metadata": {
  "kernelspec": {
   "display_name": "Python 3 (ipykernel)",
   "language": "python",
   "name": "python3"
  },
  "language_info": {
   "codemirror_mode": {
    "name": "ipython",
    "version": 3
   },
   "file_extension": ".py",
   "mimetype": "text/x-python",
   "name": "python",
   "nbconvert_exporter": "python",
   "pygments_lexer": "ipython3",
   "version": "3.8.3"
  }
 },
 "nbformat": 4,
 "nbformat_minor": 4
}
